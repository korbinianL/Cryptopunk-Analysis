{
 "cells": [
  {
   "cell_type": "code",
   "execution_count": 1,
   "metadata": {},
   "outputs": [],
   "source": [
    "import requests\n",
    "from bs4 import BeautifulSoup\n",
    "import sqlite3 as lite\n",
    "import time\n",
    "from datetime import datetime\n",
    "import re"
   ]
  },
  {
   "cell_type": "code",
   "execution_count": 12,
   "metadata": {},
   "outputs": [
    {
     "name": "stdout",
     "output_type": "stream",
     "text": [
      "Processing Punk No.: 220\n",
      "DB error INSERT failed\n",
      "DB error INSERT failed\n",
      "DB error INSERT failed\n",
      "DB error INSERT failed\n",
      "DB error INSERT failed\n",
      "DB error INSERT failed\n",
      "DB error INSERT failed\n",
      "DB error INSERT failed\n",
      "DB error INSERT failed\n",
      "DB error INSERT failed\n",
      "DB error INSERT failed\n",
      "Processing Punk No.: 221\n",
      "DB error INSERT failed\n",
      "DB error INSERT failed\n"
     ]
    }
   ],
   "source": [
    "BaseStr = \"https://www.larvalabs.com/cryptopunks/details/\"\n",
    "con = lite.connect('CryptoPunk.db')\n",
    "with con:\n",
    "    cur = con.cursor()\n",
    "    cur.execute(\"DROP TABLE IF EXISTS PunkTrades\")\n",
    "    con.commit()\n",
    "    cur.execute(\"CREATE TABLE PunkTrades(TDate INT, PunkID INT, TType TEXT, TFrom TEXT, TTo TEXT, TAmount INT)\")\n",
    "    con.commit()\n",
    "    for i in range(0, 2):\n",
    "        start = 220 + i\n",
    "        PunkNo = str(start)\n",
    "        print('Processing Punk No.: ' + PunkNo)\n",
    "        # Getting page HTML through request\n",
    "        page = requests.get(BaseStr + PunkNo)\n",
    "        # Parsing content using BeautifulSoup\n",
    "        soup = BeautifulSoup(page.content, 'html.parser')\n",
    "        # Complete reading of Crypto trades for this Punk looping through all the trades for each trade create the\n",
    "        table = soup.find('table', attrs={'class':'table'})\n",
    "        #if table is None:\n",
    "            #continue\n",
    "        rows = table.find_all('tr')\n",
    "        for j in range(1, len(rows)):\n",
    "            row = rows[j]\n",
    "            cols = row.find_all('td')\n",
    "            if cols:\n",
    "                cols = [ele.text.strip() for ele in cols]\n",
    "                rowj = (cols[4], PunkNo, cols[1], cols[2], cols[3])\n",
    "                try:\n",
    "                    cur.execute(\"INSERT INTO PunkTrades VALUES(?,?,?,?,?)\", rowj)\n",
    "                    con.commit()\n",
    "                    print(rowj)\n",
    "                except:\n",
    "                    print(\"DB error INSERT failed\")\n"
   ]
  },
  {
   "cell_type": "code",
   "execution_count": 10,
   "metadata": {},
   "outputs": [],
   "source": [
    "d = cur.execute(\"SELECT * FROM PunkTrades\")\n",
    "con.commit()"
   ]
  },
  {
   "cell_type": "code",
   "execution_count": 11,
   "metadata": {},
   "outputs": [
    {
     "data": {
      "text/plain": [
       "<sqlite3.Cursor at 0x10a54a6c0>"
      ]
     },
     "execution_count": 11,
     "metadata": {},
     "output_type": "execute_result"
    }
   ],
   "source": [
    "d"
   ]
  }
 ],
 "metadata": {
  "kernelspec": {
   "display_name": "Python 3",
   "language": "python",
   "name": "python3"
  },
  "language_info": {
   "codemirror_mode": {
    "name": "ipython",
    "version": 3
   },
   "file_extension": ".py",
   "mimetype": "text/x-python",
   "name": "python",
   "nbconvert_exporter": "python",
   "pygments_lexer": "ipython3",
   "version": "3.10.5"
  }
 },
 "nbformat": 4,
 "nbformat_minor": 2
}
